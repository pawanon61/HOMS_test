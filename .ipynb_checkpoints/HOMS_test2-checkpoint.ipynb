{
 "cells": [
  {
   "cell_type": "code",
   "execution_count": 8,
   "metadata": {},
   "outputs": [],
   "source": [
    "from pcdsdevices.mirror import OffsetMirror\n",
    "from pcdsdevices.mirror import PointingMirror\n",
    "import datetime\n",
    "import functions as test"
   ]
  },
  {
   "cell_type": "code",
   "execution_count": 2,
   "metadata": {},
   "outputs": [
    {
     "name": "stdout",
     "output_type": "stream",
     "text": [
      "This script moves real hardware. Do you want to continue(Y/N)?y\n"
     ]
    }
   ],
   "source": [
    "if test.get_user_confirmation() == False:\n",
    "    import sys; sys.exit(\"aa! exit!!\")"
   ]
  },
  {
   "cell_type": "code",
   "execution_count": 5,
   "metadata": {},
   "outputs": [],
   "source": [
    "sim_m1 = PointingMirror('SIM:M1H', name='sim_m1')\n",
    "sim_m2 = PointingMirror('SIM:M2H', name='sim_m2')\n",
    "\n",
    "fee_m1 = OffsetMirror('FEE1:M1H', name='fee_m1', prefix_xy='STEP:M1H', xgantry_prefix='STEP:FEE1:611:MOTR')\n",
    "fee_m2 = OffsetMirror('FEE1:M2H', name='fee_m2', prefix_xy='STEP:M2H', xgantry_prefix='STEP:FEE1:861:MOTR')\n",
    "xrt_m1 = PointingMirror('XRT:M1H', name='xrt_m1')\n",
    "xrt_m2 = PointingMirror('XRT:M2H', name='xrt_m2')\n",
    "xrt_m3 = OffsetMirror('XRT:M3H', name='xrt_m3')"
   ]
  },
  {
   "cell_type": "code",
   "execution_count": null,
   "metadata": {},
   "outputs": [],
   "source": [
    "# create a log file if it already doesnot exist\n",
    "import os\n",
    "import os.path\n",
    "if not os.path.exists('./HOMS_test.log'):\n",
    "    os.system('touch ./HOMS_test.log')\n",
    "f = open(\"./HOMS_test.log\", \"a\")\n",
    "f.write(\"\\nTest initiated at: %s\\n\" %datetime.datetime.now().strftime(\"%Y-%m-%d %H:%M\"))\n",
    "f.close()"
   ]
  },
  {
   "cell_type": "code",
   "execution_count": 7,
   "metadata": {},
   "outputs": [
    {
     "name": "stdout",
     "output_type": "stream",
     "text": [
      "which mirror do you want to use?\n",
      " press:\n",
      " 1 -> fee_m1; 2 -> fee_m2; 3 -> xrt_m1; 4 -> xrt_m2; 5  -> xrt_m3.6\n",
      "sorry, one of possible inputs\n",
      "which mirror do you want to use?\n",
      " press:\n",
      " 1 -> fee_m1; 2 -> fee_m2; 3 -> xrt_m1; 4 -> xrt_m2; 5  -> xrt_m3.1\n"
     ]
    }
   ],
   "source": [
    "while True:\n",
    "    try:\n",
    "        which_mirror = int(input(\"which mirror do you want to use?\\n press:\\n 1 -> fee_m1; 2 -> fee_m2; 3 -> xrt_m1; 4 -> xrt_m2; 5  -> xrt_m3.\"))\n",
    "    except ValueError:\n",
    "        print (\"sorry, I didn't understand that\")\n",
    "        continue\n",
    "    if not which_mirror in range (1,6):\n",
    "        print(\"sorry, it's not one of possible inputs\")\n",
    "        continue\n",
    "    else:\n",
    "        break\n",
    "        \n",
    "which_mirror_dict = {1: fee_m1, 2:fee_m2, 3:xrt_m1, 4:xrt_m2, 5:xrt_m3}\n",
    "test_object = which_mirror_dict[which_mirror]\n",
    "f = open(\"./HOMS_test.log\", \"a\")\n",
    "f.write(\"\\tusing %s mirror\\n\" %test_object.name)\n",
    "f.close()"
   ]
  },
  {
   "cell_type": "markdown",
   "metadata": {},
   "source": [
    "use this for simulated mirror"
   ]
  },
  {
   "cell_type": "code",
   "execution_count": null,
   "metadata": {},
   "outputs": [],
   "source": [
    "# test_object = sim_m1"
   ]
  },
  {
   "cell_type": "markdown",
   "metadata": {},
   "source": [
    "# X and y checks"
   ]
  },
  {
   "cell_type": "code",
   "execution_count": null,
   "metadata": {},
   "outputs": [],
   "source": [
    "test.verify_axes_coupled(test_object)"
   ]
  },
  {
   "cell_type": "code",
   "execution_count": null,
   "metadata": {},
   "outputs": [],
   "source": [
    "test.get_gantry_difference(test_object)"
   ]
  },
  {
   "cell_type": "markdown",
   "metadata": {},
   "source": [
    "Request a move, 0.5mm\n",
    "Record: final settled value of primary axis, final gantry difference, time for move to complete"
   ]
  },
  {
   "cell_type": "code",
   "execution_count": null,
   "metadata": {},
   "outputs": [],
   "source": [
    "# running the test with 5 mins timeout\n",
    "test.w_timeout(test.gantry_checks(test_object.xgantry, 0.5), 300)"
   ]
  },
  {
   "cell_type": "code",
   "execution_count": null,
   "metadata": {},
   "outputs": [],
   "source": [
    "test.w_timeout(test.gantry_checks(test_object.ygantry, 0.5), 300)"
   ]
  },
  {
   "cell_type": "markdown",
   "metadata": {},
   "source": [
    "# Pitch checks"
   ]
  },
  {
   "cell_type": "markdown",
   "metadata": {},
   "source": [
    "Record 10 second average noise level"
   ]
  },
  {
   "cell_type": "code",
   "execution_count": null,
   "metadata": {},
   "outputs": [],
   "source": [
    "avg_noise_level(test_object)"
   ]
  },
  {
   "cell_type": "markdown",
   "metadata": {},
   "source": [
    "Record time for small/large move"
   ]
  },
  {
   "cell_type": "markdown",
   "metadata": {},
   "source": [
    "Record time for small move (ie. move within piezo range [~20 nrad])"
   ]
  },
  {
   "cell_type": "code",
   "execution_count": null,
   "metadata": {
    "scrolled": true
   },
   "outputs": [],
   "source": [
    "test.w_timeout(test.rec_time_for_a_move(test_object, 20), 300)"
   ]
  },
  {
   "cell_type": "markdown",
   "metadata": {},
   "source": [
    "Record time for large move (ie. move > 60 nrad)"
   ]
  },
  {
   "cell_type": "code",
   "execution_count": null,
   "metadata": {},
   "outputs": [],
   "source": [
    "test.w_timeout(test.rec_time_for_large_move(test_object, 100), 300)"
   ]
  },
  {
   "cell_type": "markdown",
   "metadata": {},
   "source": [
    "# for all axes"
   ]
  },
  {
   "cell_type": "code",
   "execution_count": null,
   "metadata": {},
   "outputs": [],
   "source": [
    "# FOR ALL AXES\n",
    "f = open(\"./HOMS_test.log\", \"a\")\n",
    "print(\"%.4f recording original position...\" %test_object.xgantry.readback.timestamp)\n",
    "f.write(\"\\t%.4f recording original position...\\n\" %test_object.xgantry.readback.timestamp)\n",
    "initial_mirror_angle = test_object.pitch()\n",
    "mirror_angle_unit = test_object.pitch.egu\n",
    "initial_xgantry_value = test_object.xgantry()\n",
    "initial_ygantry_value = test_object.ygantry()\n",
    "gantry_value_unit = test_object.xgantry.egu\n",
    "print(\"initial mirror angle is %.4f %s\" %(initial_mirror_angle, test_object.pitch.egu))\n",
    "print(\"initial xgantry value is %.4f %s\" %(initial_xgantry_value, test_object.xgantry.egu))\n",
    "print(\"initial ygantry value is %.4f %s\" %(initial_ygantry_value, test_object.ygantry.egu))\n",
    "f.write(\"\\tinitial mirror angle is %.4f %s\\n\" %(initial_mirror_angle, test_object.pitch.egu))\n",
    "f.write(\"\\tinitial xgantry value is %.4f %s\\n\" %(initial_xgantry_value, test_object.xgantry.egu))\n",
    "f.write(\"\\tinitial ygantry value is %.4f %s\\n\\n\" %(initial_ygantry_value, test_object.ygantry.egu))\n",
    "f.close()"
   ]
  },
  {
   "cell_type": "markdown",
   "metadata": {},
   "source": [
    "for all axes, Request a large move, change request before move is complete (small delay), verify target change is accepted and final position matches second command\n"
   ]
  },
  {
   "cell_type": "markdown",
   "metadata": {},
   "source": [
    "xgantry"
   ]
  },
  {
   "cell_type": "code",
   "execution_count": null,
   "metadata": {},
   "outputs": [],
   "source": [
    "test.w_timeout(test.request_change_verify_axis(test_object.xgantry, initial_xgantry_value, 0.5, 0.7), 300)"
   ]
  },
  {
   "cell_type": "markdown",
   "metadata": {},
   "source": [
    "ygantry"
   ]
  },
  {
   "cell_type": "code",
   "execution_count": null,
   "metadata": {},
   "outputs": [],
   "source": [
    "test.w_timeout(test.request_change_verify_axis(test_object.ygantry, initial_ygantry_value, 0.5, 0.7), 300)\n"
   ]
  },
  {
   "cell_type": "markdown",
   "metadata": {},
   "source": [
    "pitch"
   ]
  },
  {
   "cell_type": "code",
   "execution_count": null,
   "metadata": {},
   "outputs": [],
   "source": [
    "test.w_timeout(test.request_change_verify_axis(test_object.pitch, initial_mirror_angle, 0.5, 0.7), 300)"
   ]
  }
 ],
 "metadata": {
  "kernelspec": {
   "display_name": "Python 3",
   "language": "python",
   "name": "python3"
  },
  "language_info": {
   "codemirror_mode": {
    "name": "ipython",
    "version": 3
   },
   "file_extension": ".py",
   "mimetype": "text/x-python",
   "name": "python",
   "nbconvert_exporter": "python",
   "pygments_lexer": "ipython3",
   "version": "3.6.5"
  }
 },
 "nbformat": 4,
 "nbformat_minor": 2
}
