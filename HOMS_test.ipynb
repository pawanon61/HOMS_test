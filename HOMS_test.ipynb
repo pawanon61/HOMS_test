{
 "cells": [
  {
   "cell_type": "code",
   "execution_count": 1,
   "metadata": {},
   "outputs": [
    {
     "name": "stderr",
     "output_type": "stream",
     "text": [
      "2018-07-04 18:25:17,945 - __main__ - INFO - \n",
      "Test initiated at: 2018-07-04 18:25\n",
      "\n"
     ]
    }
   ],
   "source": [
    "from pcdsdevices.mirror import OffsetMirror\n",
    "from pcdsdevices.mirror import PointingMirror\n",
    "import datetime\n",
    "import functions as test\n",
    "\n",
    "import logging\n",
    "# create  logger\n",
    "level = logging.INFO\n",
    "format = '%(asctime)s - %(name)s - %(levelname)s - %(message)s'\n",
    "handlers = [logging.FileHandler('HOMS_test.log'), logging.StreamHandler()]\n",
    "logging.basicConfig(level = level, format = format, handlers = handlers)\n",
    "logger = logging.getLogger(__name__)\n",
    "logger.info(\"\\nTest initiated at: %s\\n\" %datetime.datetime.now().strftime(\"%Y-%m-%d %H:%M\"))"
   ]
  },
  {
   "cell_type": "code",
   "execution_count": 2,
   "metadata": {},
   "outputs": [
    {
     "name": "stdout",
     "output_type": "stream",
     "text": [
      "This script moves real hardware. Do you want to continue(Y/N)?y\n"
     ]
    }
   ],
   "source": [
    "if test.get_user_confirmation() == False:\n",
    "    import sys; sys.exit(\"aa! exit!!\")"
   ]
  },
  {
   "cell_type": "code",
   "execution_count": 3,
   "metadata": {},
   "outputs": [],
   "source": [
    "sim_m1 = PointingMirror('SIM:M1H', name='sim_m1')\n",
    "sim_m2 = PointingMirror('SIM:M2H', name='sim_m2')\n",
    "\n",
    "fee_m1 = OffsetMirror('FEE1:M1H', name='fee_m1', prefix_xy='STEP:M1H', xgantry_prefix='STEP:FEE1:611:MOTR')\n",
    "fee_m2 = OffsetMirror('FEE1:M2H', name='fee_m2', prefix_xy='STEP:M2H', xgantry_prefix='STEP:FEE1:861:MOTR')\n",
    "xrt_m1 = PointingMirror('XRT:M1H', name='xrt_m1')\n",
    "xrt_m2 = PointingMirror('XRT:M2H', name='xrt_m2')\n",
    "xrt_m3 = OffsetMirror('XRT:M3H', name='xrt_m3')"
   ]
  },
  {
   "cell_type": "code",
   "execution_count": 4,
   "metadata": {},
   "outputs": [
    {
     "name": "stdout",
     "output_type": "stream",
     "text": [
      "which mirror do you want to use?\n",
      " press:\n",
      " 1 -> fee_m1; 2 -> fee_m2; 3 -> xrt_m1; 4 -> xrt_m2; 5  -> xrt_m3.1\n"
     ]
    },
    {
     "name": "stderr",
     "output_type": "stream",
     "text": [
      "2018-07-04 18:25:25,297 - __main__ - INFO - \tusing fee_m1 mirror\n"
     ]
    }
   ],
   "source": [
    "while True:\n",
    "    try:\n",
    "        which_mirror = int(input(\"which mirror do you want to use?\\n press:\\n 1 -> fee_m1; 2 -> fee_m2; 3 -> xrt_m1; 4 -> xrt_m2; 5  -> xrt_m3.\"))\n",
    "    except ValueError:\n",
    "        print (\"sorry, I didn't understand that\")\n",
    "        continue\n",
    "    if not which_mirror in range (1,6):\n",
    "        print(\"sorry, it's not one of possible inputs\")\n",
    "        continue\n",
    "    else:\n",
    "        break\n",
    "        \n",
    "which_mirror_dict = {1: fee_m1, 2:fee_m2, 3:xrt_m1, 4:xrt_m2, 5:xrt_m3}\n",
    "test_object = which_mirror_dict[which_mirror]\n",
    "logger.info(\"\\tusing %s mirror\" %test_object.name)"
   ]
  },
  {
   "cell_type": "markdown",
   "metadata": {},
   "source": [
    "use this for simulated mirror"
   ]
  },
  {
   "cell_type": "code",
   "execution_count": 5,
   "metadata": {},
   "outputs": [],
   "source": [
    "# test_object = sim_m1"
   ]
  },
  {
   "cell_type": "markdown",
   "metadata": {},
   "source": [
    "# X and y checks"
   ]
  },
  {
   "cell_type": "code",
   "execution_count": 5,
   "metadata": {},
   "outputs": [
    {
     "name": "stderr",
     "output_type": "stream",
     "text": [
      "2018-07-04 18:25:31,437 - functions - INFO - checking if fee_m1 axes are coupled\n",
      "2018-07-04 18:25:31,440 - functions - INFO - yGantry status: coupled\n",
      "2018-07-04 18:25:31,442 - functions - INFO -  ygantry status: coupled\n"
     ]
    }
   ],
   "source": [
    "test.verify_axes_coupled(test_object)"
   ]
  },
  {
   "cell_type": "code",
   "execution_count": 6,
   "metadata": {},
   "outputs": [
    {
     "name": "stderr",
     "output_type": "stream",
     "text": [
      "2018-07-04 18:25:32,586 - functions - INFO - getting gantry differences for mirror fee_m1\n",
      "2018-07-04 18:25:32,588 - functions - INFO - xgantry difference: -0.0027\n",
      "2018-07-04 18:25:32,589 - functions - INFO - ygantry_difference: -0.0027\n"
     ]
    }
   ],
   "source": [
    "test.get_gantry_difference(test_object)"
   ]
  },
  {
   "cell_type": "markdown",
   "metadata": {},
   "source": [
    "Request a move, 0.5mm\n",
    "Record: final settled value of primary axis, final gantry difference, time for move to complete"
   ]
  },
  {
   "cell_type": "code",
   "execution_count": 7,
   "metadata": {},
   "outputs": [
    {
     "name": "stderr",
     "output_type": "stream",
     "text": [
      "2018-07-04 18:25:42,091 - functions - INFO - movement check....\n",
      "2018-07-04 18:25:42,092 - functions - INFO - moving by 0.500000...\n",
      "2018-07-04 18:25:42,101 - __main__ - ERROR - exception occured\n",
      "Traceback (most recent call last):\n",
      "  File \"<ipython-input-7-8e141ceda5e0>\", line 3, in <module>\n",
      "    test.w_timeout(test.gantry_checks(test_object.xgantry, 0.5), 300)\n",
      "  File \"/reg/neh/home5/gaire01/HOMS_tst/functions.py\", line 41, in gantry_checks\n",
      "    object_method.umvr(how_much)\n",
      "  File \"/reg/g/pcds/pyps/conda/py36/envs/pcds-1.2.0/lib/python3.6/site-packages/pcdsdevices/mv_interface.py\", line 146, in umvr\n",
      "    self.umv(delta + self.wm(), timeout=timeout)\n",
      "  File \"/reg/g/pcds/pyps/conda/py36/envs/pcds-1.2.0/lib/python3.6/site-packages/pcdsdevices/mv_interface.py\", line 125, in umv\n",
      "    status = self.move(position, timeout=timeout, wait=False)\n",
      "  File \"/reg/g/pcds/pyps/conda/py36/envs/pcds-1.2.0/lib/python3.6/site-packages/ophyd/pv_positioner.py\", line 194, in move\n",
      "    self._setup_move(position)\n",
      "  File \"/reg/g/pcds/pyps/conda/py36/envs/pcds-1.2.0/lib/python3.6/site-packages/ophyd/pv_positioner.py\", line 148, in _setup_move\n",
      "    self.setpoint.put(position, wait=True)\n",
      "  File \"/reg/g/pcds/pyps/conda/py36/envs/pcds-1.2.0/lib/python3.6/site-packages/ophyd/signal.py\", line 899, in put\n",
      "    self._write_pv.put(value, use_complete=use_complete, **kwargs)\n",
      "  File \"/reg/g/pcds/pyps/conda/py36/envs/pcds-1.2.0/lib/python3.6/site-packages/epics/pv.py\", line 395, in put\n",
      "    callback_data=callback_data)\n",
      "  File \"/reg/g/pcds/pyps/conda/py36/envs/pcds-1.2.0/lib/python3.6/site-packages/epics/ca.py\", line 439, in wrapper\n",
      "    return fcn(*args, **kwds)\n",
      "  File \"/reg/g/pcds/pyps/conda/py36/envs/pcds-1.2.0/lib/python3.6/site-packages/epics/ca.py\", line 1453, in put\n",
      "    PySEVCHK('put', ret)\n",
      "  File \"/reg/g/pcds/pyps/conda/py36/envs/pcds-1.2.0/lib/python3.6/site-packages/epics/ca.py\", line 468, in PySEVCHK\n",
      "    raise CASeverityException(func_name, message(status))\n",
      "epics.ca.CASeverityException:  put returned 'Write access denied'\n"
     ]
    }
   ],
   "source": [
    "# running the test with 5 mins timeout\n",
    "try:\n",
    "    test.w_timeout(test.gantry_checks(test_object.xgantry, 0.5), 300)\n",
    "except:\n",
    "    logger.exception(\"exception occured\")"
   ]
  },
  {
   "cell_type": "code",
   "execution_count": null,
   "metadata": {},
   "outputs": [],
   "source": [
    "try:\n",
    "    test.w_timeout(test.gantry_checks(test_object.ygantry, 0.5), 300)\n",
    "except:\n",
    "    logger.warning(\"exception occured\")"
   ]
  },
  {
   "cell_type": "markdown",
   "metadata": {},
   "source": [
    "# Pitch checks"
   ]
  },
  {
   "cell_type": "markdown",
   "metadata": {},
   "source": [
    "Record 10 second average noise level"
   ]
  },
  {
   "cell_type": "code",
   "execution_count": null,
   "metadata": {},
   "outputs": [],
   "source": [
    "avg_noise_level(test_object)"
   ]
  },
  {
   "cell_type": "markdown",
   "metadata": {},
   "source": [
    "Record time for small/large move"
   ]
  },
  {
   "cell_type": "markdown",
   "metadata": {},
   "source": [
    "Record time for small move (ie. move within piezo range [~20 nrad])"
   ]
  },
  {
   "cell_type": "code",
   "execution_count": null,
   "metadata": {
    "scrolled": true
   },
   "outputs": [],
   "source": [
    "try:\n",
    "    test.w_timeout(test.rec_time_for_a_move(test_object, 20), 300)\n",
    "except:\n",
    "    logger.exception(\"exception occured\")"
   ]
  },
  {
   "cell_type": "markdown",
   "metadata": {},
   "source": [
    "Record time for large move (ie. move > 60 nrad)"
   ]
  },
  {
   "cell_type": "code",
   "execution_count": null,
   "metadata": {},
   "outputs": [],
   "source": [
    "try:\n",
    "    test.w_timeout(test.rec_time_for_large_move(test_object, 100), 300)\n",
    "except:\n",
    "    logger.exception(\"exception occured\")"
   ]
  },
  {
   "cell_type": "markdown",
   "metadata": {},
   "source": [
    "# for all axes"
   ]
  },
  {
   "cell_type": "code",
   "execution_count": 9,
   "metadata": {},
   "outputs": [
    {
     "name": "stderr",
     "output_type": "stream",
     "text": [
      "2018-07-04 18:29:38,757 - __main__ - INFO - \t1530754178.7362 recording original position...\n",
      "\n",
      "2018-07-04 18:29:38,761 - __main__ - INFO - initial mirror angle is 242.0574 urad\n",
      "2018-07-04 18:29:38,763 - __main__ - INFO - initial xgantry value is -0.7031 mm\n",
      "2018-07-04 18:29:38,764 - __main__ - INFO - initial ygantry value is -0.0012 mm\n"
     ]
    }
   ],
   "source": [
    "# FOR ALL AXES\n",
    "logger.info(\"\\t%.4f recording original position...\\n\" %test_object.xgantry.readback.timestamp)\n",
    "initial_mirror_angle = test_object.pitch()\n",
    "mirror_angle_unit = test_object.pitch.egu\n",
    "initial_xgantry_value = test_object.xgantry()\n",
    "initial_ygantry_value = test_object.ygantry()\n",
    "gantry_value_unit = test_object.xgantry.egu\n",
    "logger.info(\"initial mirror angle is %.4f %s\" %(initial_mirror_angle, test_object.pitch.egu))\n",
    "logger.info(\"initial xgantry value is %.4f %s\" %(initial_xgantry_value, test_object.xgantry.egu))\n",
    "logger.info(\"initial ygantry value is %.4f %s\" %(initial_ygantry_value, test_object.ygantry.egu))"
   ]
  },
  {
   "cell_type": "markdown",
   "metadata": {},
   "source": [
    "for all axes, Request a large move, change request before move is complete (small delay), verify target change is accepted and final position matches second command\n"
   ]
  },
  {
   "cell_type": "markdown",
   "metadata": {},
   "source": [
    "xgantry"
   ]
  },
  {
   "cell_type": "code",
   "execution_count": 10,
   "metadata": {},
   "outputs": [
    {
     "name": "stderr",
     "output_type": "stream",
     "text": [
      "2018-07-04 18:29:42,705 - functions - INFO - initial move...\n",
      "2018-07-04 18:29:42,710 - __main__ - ERROR - exception occured\n",
      "Traceback (most recent call last):\n",
      "  File \"<ipython-input-10-ef8077b8db54>\", line 2, in <module>\n",
      "    test.w_timeout(test.request_change_verify_axis(test_object.xgantry, initial_xgantry_value, 0.5, 0.7), 300)\n",
      "  File \"/reg/neh/home5/gaire01/HOMS_tst/functions.py\", line 70, in request_change_verify_axis\n",
      "    object_method.mv(initial_move_to)\n",
      "  File \"/reg/g/pcds/pyps/conda/py36/envs/pcds-1.2.0/lib/python3.6/site-packages/pcdsdevices/mv_interface.py\", line 49, in mv\n",
      "    self.move(position, timeout=timeout, wait=wait)\n",
      "  File \"/reg/g/pcds/pyps/conda/py36/envs/pcds-1.2.0/lib/python3.6/site-packages/ophyd/pv_positioner.py\", line 194, in move\n",
      "    self._setup_move(position)\n",
      "  File \"/reg/g/pcds/pyps/conda/py36/envs/pcds-1.2.0/lib/python3.6/site-packages/ophyd/pv_positioner.py\", line 148, in _setup_move\n",
      "    self.setpoint.put(position, wait=True)\n",
      "  File \"/reg/g/pcds/pyps/conda/py36/envs/pcds-1.2.0/lib/python3.6/site-packages/ophyd/signal.py\", line 899, in put\n",
      "    self._write_pv.put(value, use_complete=use_complete, **kwargs)\n",
      "  File \"/reg/g/pcds/pyps/conda/py36/envs/pcds-1.2.0/lib/python3.6/site-packages/epics/pv.py\", line 395, in put\n",
      "    callback_data=callback_data)\n",
      "  File \"/reg/g/pcds/pyps/conda/py36/envs/pcds-1.2.0/lib/python3.6/site-packages/epics/ca.py\", line 439, in wrapper\n",
      "    return fcn(*args, **kwds)\n",
      "  File \"/reg/g/pcds/pyps/conda/py36/envs/pcds-1.2.0/lib/python3.6/site-packages/epics/ca.py\", line 1453, in put\n",
      "    PySEVCHK('put', ret)\n",
      "  File \"/reg/g/pcds/pyps/conda/py36/envs/pcds-1.2.0/lib/python3.6/site-packages/epics/ca.py\", line 468, in PySEVCHK\n",
      "    raise CASeverityException(func_name, message(status))\n",
      "epics.ca.CASeverityException:  put returned 'Write access denied'\n"
     ]
    }
   ],
   "source": [
    "try:\n",
    "    test.w_timeout(test.request_change_verify_axis(test_object.xgantry, initial_xgantry_value, 0.5, 0.7), 300)\n",
    "except:\n",
    "    logger.exception(\"exception occured\")"
   ]
  },
  {
   "cell_type": "markdown",
   "metadata": {},
   "source": [
    "ygantry"
   ]
  },
  {
   "cell_type": "code",
   "execution_count": 8,
   "metadata": {},
   "outputs": [
    {
     "name": "stderr",
     "output_type": "stream",
     "text": [
      "2018-07-04 18:29:28,902 - __main__ - ERROR - exception occured\n",
      "Traceback (most recent call last):\n",
      "  File \"<ipython-input-8-fd686ce35e00>\", line 2, in <module>\n",
      "    test.w_timeout(test.request_change_verify_axis(test_object.ygantry, initial_ygantry_value, 0.5, 0.7), 300)\n",
      "NameError: name 'initial_ygantry_value' is not defined\n"
     ]
    }
   ],
   "source": [
    "try:\n",
    "    test.w_timeout(test.request_change_verify_axis(test_object.ygantry, initial_ygantry_value, 0.5, 0.7), 300)\n",
    "except:\n",
    "    logger.exception(\"exception occured\")\n"
   ]
  },
  {
   "cell_type": "markdown",
   "metadata": {},
   "source": [
    "pitch"
   ]
  },
  {
   "cell_type": "code",
   "execution_count": null,
   "metadata": {},
   "outputs": [],
   "source": [
    "try:\n",
    "    test.w_timeout(test.request_change_verify_axis(test_object.pitch, initial_mirror_angle, 0.5, 0.7), 300)\n",
    "except:\n",
    "    logger.exception(\"exception occured\")"
   ]
  }
 ],
 "metadata": {
  "kernelspec": {
   "display_name": "Python 3",
   "language": "python",
   "name": "python3"
  },
  "language_info": {
   "codemirror_mode": {
    "name": "ipython",
    "version": 3
   },
   "file_extension": ".py",
   "mimetype": "text/x-python",
   "name": "python",
   "nbconvert_exporter": "python",
   "pygments_lexer": "ipython3",
   "version": "3.6.5"
  }
 },
 "nbformat": 4,
 "nbformat_minor": 2
}
